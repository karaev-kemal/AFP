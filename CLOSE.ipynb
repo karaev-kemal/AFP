{
 "cells": [
  {
   "cell_type": "code",
   "execution_count": 9,
   "metadata": {},
   "outputs": [],
   "source": [
    "obj = {\n",
    "        1: ['A', 'C', 'D'],\n",
    "        2: ['B', 'C', 'E'],\n",
    "        3: ['A', 'B', 'C', 'E'],\n",
    "        4: ['B', 'E'],\n",
    "        5: ['A', 'B', 'C', 'E'],\n",
    "        6: ['B', 'C', 'E']\n",
    "        }\n",
    "itm = {'A': [1, 3, 5],\n",
    "       'B': [2, 3, 4, 5, 6], \n",
    "       'C': [1, 2, 3, 5, 6],\n",
    "       'D': [1],\n",
    "       'E': [2, 3, 4, 5, 6]}"
   ]
  },
  {
   "cell_type": "code",
   "execution_count": 69,
   "metadata": {},
   "outputs": [],
   "source": [
    "def closure(item):\n",
    "    itm_list = -1\n",
    "    for feat in item:\n",
    "        if itm_list == -1:\n",
    "            itm_list = itm[feat]\n",
    "        else:\n",
    "            itm_list = [el for el in itm_list if el in itm[feat]]\n",
    "    \n",
    "    res = -1\n",
    "    for ob in itm_list:\n",
    "        if res == -1:\n",
    "            res = obj[ob]\n",
    "        else:\n",
    "            res = [el for el in res if el in obj[ob]]\n",
    "    return sorted(res)\n",
    "\n",
    "def sup(item):\n",
    "    itm_list = -1\n",
    "    for feat in item:\n",
    "        if itm_list == -1:\n",
    "            itm_list = itm[feat]\n",
    "        else:\n",
    "            itm_list = [el for el in itm_list if el in itm[feat]]\n",
    "    return len(itm_list) / len(obj)"
   ]
  },
  {
   "cell_type": "code",
   "execution_count": 151,
   "metadata": {},
   "outputs": [],
   "source": [
    "minsupp = 2/6\n",
    "\n",
    "FC = []\n",
    "\n",
    "FC.append([[list(el) for el in list(itm.keys())], #генераторы\n",
    "            None,\n",
    "            None\n",
    "         ])\n",
    "k = 1\n",
    "while True:\n",
    "    \n",
    "    FC[k-1][1] = [closure(el) for el in FC[k-1][0]]\n",
    "    FC[k-1][2] = [sup(el) for el in FC[k-1][0]]\n",
    "\n",
    "    idxs_to_delete = []\n",
    "    for idx, cur_sup in enumerate(FC[k-1][2]):\n",
    "        if(cur_sup < minsupp):\n",
    "            idxs_to_delete.append(idx)\n",
    "\n",
    "    for el in range(len(idxs_to_delete) -1 , -1, -1):\n",
    "        idx_del = idxs_to_delete[el]\n",
    "        del FC[k-1][0][idx_del]\n",
    "        del FC[k-1][1][idx_del]\n",
    "        del FC[k-1][2][idx_del]\n",
    "\n",
    "    new_gens = []\n",
    "    for gen1 in FC[k-1][0]:\n",
    "        for gen2 in FC[k-1][0]:\n",
    "            if gen1 != gen2:\n",
    "                if (len(gen1) == 1) or (gen1[0:-1] == gen2[0:-1]): # a\n",
    "                    cur_gen = sorted([el for el in (list(gen1[0:-1]) + list(gen1[-1]) + list(gen2[-1]))])\n",
    "                    if (sup(cur_gen) >= minsupp): # b\n",
    "                        if (cur_gen not in new_gens) and (closure(cur_gen) not in FC[k-1][1]): # c\n",
    "                            new_gens.append(cur_gen)\n",
    "    if len(new_gens):\n",
    "        FC.append([new_gens, None, None])\n",
    "    else:\n",
    "        break\n",
    "    k+=1"
   ]
  },
  {
   "cell_type": "code",
   "execution_count": 177,
   "metadata": {},
   "outputs": [],
   "source": [
    "def normalize_str(s):\n",
    "    N = 24\n",
    "    return s + ' ' * (int)((N - len(s)))\n",
    "#     return ' ' * (int)((N - len(s))/2) + s + ' ' * (int)(30 - len(s) - (N - len(s))/2)"
   ]
  },
  {
   "cell_type": "code",
   "execution_count": 246,
   "metadata": {},
   "outputs": [
    {
     "name": "stdout",
     "output_type": "stream",
     "text": [
      "\n",
      "\n",
      "                             k = 1                            \n",
      "-----------------------------------------------------------------\n",
      "|        генераторы        |        замыкания         |поддержка|\n",
      "|--------------------------|--------------------------|---------|\n",
      "| ['A']                    | ['A', 'C']               | 0.50000 |\n",
      "| ['B']                    | ['B', 'E']               | 0.83333 |\n",
      "| ['C']                    | ['C']                    | 0.83333 |\n",
      "| ['E']                    | ['B', 'E']               | 0.83333 |\n",
      "_________________________________________________________________\n",
      "\n",
      "\n",
      "                             k = 2                            \n",
      "-----------------------------------------------------------------\n",
      "|        генераторы        |        замыкания         |поддержка|\n",
      "|--------------------------|--------------------------|---------|\n",
      "| ['A', 'B']               | ['A', 'B', 'C', 'E']     | 0.33333 |\n",
      "| ['A', 'E']               | ['A', 'B', 'C', 'E']     | 0.33333 |\n",
      "| ['B', 'C']               | ['B', 'C', 'E']          | 0.66667 |\n",
      "| ['C', 'E']               | ['B', 'C', 'E']          | 0.66667 |\n",
      "_________________________________________________________________\n"
     ]
    }
   ],
   "source": [
    "print\n",
    "for i in range(k):\n",
    "    print('\\n')\n",
    "    print('                            ', 'k =', i+1, '                           ')\n",
    "    print('-' * 65)\n",
    "    print('|        генераторы        |        замыкания         |поддержка|')\n",
    "#     print(' ' * 28, 'k =', i+1, ' '*28)\n",
    "    print('|--------------------------|--------------------------|---------|')\n",
    "    for j in range(len(FC[0][0])):\n",
    "        print('|',\n",
    "              normalize_str(str(FC[i][0][j])),'|',\n",
    "              normalize_str(str(FC[i][1][j])),'|',\n",
    "              \"%.5f\" % FC[i][2][j],'|')\n",
    "    print('_' * 65)"
   ]
  }
 ],
 "metadata": {
  "kernelspec": {
   "display_name": "py3.6",
   "language": "python",
   "name": "other-env"
  },
  "language_info": {
   "codemirror_mode": {
    "name": "ipython",
    "version": 3
   },
   "file_extension": ".py",
   "mimetype": "text/x-python",
   "name": "python",
   "nbconvert_exporter": "python",
   "pygments_lexer": "ipython3",
   "version": "3.6.5"
  }
 },
 "nbformat": 4,
 "nbformat_minor": 2
}
